{
  "nbformat": 4,
  "nbformat_minor": 0,
  "metadata": {
    "colab": {
      "name": "Data Mining",
      "provenance": [],
      "collapsed_sections": [],
      "authorship_tag": "ABX9TyPHs460nYUwRBPQriUWt/Mm",
      "include_colab_link": true
    },
    "kernelspec": {
      "name": "python3",
      "display_name": "Python 3"
    },
    "language_info": {
      "name": "python"
    }
  },
  "cells": [
    {
      "cell_type": "markdown",
      "metadata": {
        "id": "view-in-github",
        "colab_type": "text"
      },
      "source": [
        "<a href=\"https://colab.research.google.com/github/vash4/My-Project/blob/master/Data_Mining.ipynb\" target=\"_parent\"><img src=\"https://colab.research.google.com/assets/colab-badge.svg\" alt=\"Open In Colab\"/></a>"
      ]
    },
    {
      "cell_type": "code",
      "execution_count": 1,
      "metadata": {
        "id": "jX2cyGF0aa6y"
      },
      "outputs": [],
      "source": [
        "import pandas as pd\n",
        "import numpy as np\n",
        "import seaborn as sn\n",
        "import matplotlib.pyplot as plt\n",
        "\n"
      ]
    },
    {
      "cell_type": "code",
      "source": [
        "df=pd.read_csv(\"/content/matches.csv\")\n",
        "df.head"
      ],
      "metadata": {
        "id": "qQYCcywebtAs"
      },
      "execution_count": null,
      "outputs": []
    },
    {
      "cell_type": "markdown",
      "source": [
        "# man of the match"
      ],
      "metadata": {
        "id": "-L_pRXUfRY8Y"
      }
    },
    {
      "cell_type": "code",
      "source": [
        "df['player_of_match'].value_counts()"
      ],
      "metadata": {
        "id": "378BHcg2cJW2"
      },
      "execution_count": null,
      "outputs": []
    },
    {
      "cell_type": "markdown",
      "source": [
        "# getting top 15 player with match awards"
      ],
      "metadata": {
        "id": "BUTN5p8hRS0p"
      }
    },
    {
      "cell_type": "code",
      "source": [
        "df['player_of_match'].value_counts()[0:15]"
      ],
      "metadata": {
        "id": "StB-vPf-cx1t"
      },
      "execution_count": null,
      "outputs": []
    },
    {
      "cell_type": "code",
      "source": [
        "plt.figure(figsize=(10,5))\n",
        "plt.bar(list(df['player_of_match'].value_counts()[0:5].keys()),list(df['player_of_match'].value_counts()[0:5]),color ='r')\n",
        "plt.show()"
      ],
      "metadata": {
        "id": "7aCzTaikdSIk"
      },
      "execution_count": null,
      "outputs": []
    },
    {
      "cell_type": "markdown",
      "source": [
        "# finding the result\n"
      ],
      "metadata": {
        "id": "UNLpnFyyRGMi"
      }
    },
    {
      "cell_type": "code",
      "source": [
        "df['result'].value_counts()"
      ],
      "metadata": {
        "id": "hxLQghs_g4Il"
      },
      "execution_count": null,
      "outputs": []
    },
    {
      "cell_type": "markdown",
      "source": [
        " # Finding no.of toss"
      ],
      "metadata": {
        "id": "k__oHj6nQgLu"
      }
    },
    {
      "cell_type": "code",
      "source": [
        "df['toss_winner'].value_counts()"
      ],
      "metadata": {
        "id": "R4W5l-Bcgn9Y"
      },
      "execution_count": null,
      "outputs": []
    },
    {
      "cell_type": "markdown",
      "source": [
        "# team won batting first"
      ],
      "metadata": {
        "id": "ygjO01Z7QLhS"
      }
    },
    {
      "cell_type": "code",
      "source": [
        "bat=df[df['win_by_runs']!=0]\n",
        "bat.head()"
      ],
      "metadata": {
        "id": "aSTkjaCLiF2h"
      },
      "execution_count": null,
      "outputs": []
    },
    {
      "cell_type": "markdown",
      "source": [
        "# Visualization "
      ],
      "metadata": {
        "id": "WpePPkJvQDy-"
      }
    },
    {
      "cell_type": "code",
      "source": [
        "plt.figure(figsize=(5,7))\n",
        "plt.hist(df['win_by_runs'])\n",
        "plt.title('Score of run')\n",
        "plt.xlabel('Runs')\n",
        "plt.ylabel('batting')\n",
        "plt.show()"
      ],
      "metadata": {
        "id": "32Qv33Ypiy_X"
      },
      "execution_count": null,
      "outputs": []
    },
    {
      "cell_type": "markdown",
      "source": [
        "# **Batting first**"
      ],
      "metadata": {
        "id": "BbVQadDPbYIS"
      }
    },
    {
      "cell_type": "code",
      "source": [
        "bat['winner'].value_counts()"
      ],
      "metadata": {
        "id": "HWm935bANOZD"
      },
      "execution_count": null,
      "outputs": []
    },
    {
      "cell_type": "markdown",
      "source": [
        "# Extract second batting "
      ],
      "metadata": {
        "id": "JndhceZSPjel"
      }
    },
    {
      "cell_type": "code",
      "source": [
        "batt =df[df['win_by_wickets']!=0]\n",
        "batt.head()"
      ],
      "metadata": {
        "id": "Q66R_Ks8Oi8i"
      },
      "execution_count": null,
      "outputs": []
    },
    {
      "cell_type": "markdown",
      "source": [
        "#**histogram**"
      ],
      "metadata": {
        "id": "CLhxRyO5PcM0"
      }
    },
    {
      "cell_type": "code",
      "source": [
        "plt.figure(figsize=(7,7))\n",
        "plt.hist(batt['win_by_wickets'],bins=25)\n",
        "plt.show()"
      ],
      "metadata": {
        "id": "7QSJXhvVRgOa"
      },
      "execution_count": null,
      "outputs": []
    },
    {
      "cell_type": "markdown",
      "source": [
        "# Wins after batting second"
      ],
      "metadata": {
        "id": "yd1jiHupSbUX"
      }
    },
    {
      "cell_type": "code",
      "source": [
        "batt['winner'].value_counts()"
      ],
      "metadata": {
        "id": "IA5Ow-h4SnjN"
      },
      "execution_count": null,
      "outputs": []
    },
    {
      "cell_type": "markdown",
      "source": [
        "# No. of matches played each season "
      ],
      "metadata": {
        "id": "byXa_nBBTGSR"
      }
    },
    {
      "cell_type": "code",
      "source": [
        "df['season'].value_counts()"
      ],
      "metadata": {
        "id": "rT7B-AUUTR4d"
      },
      "execution_count": null,
      "outputs": []
    },
    {
      "cell_type": "markdown",
      "source": [
        "# no. of matches played in each city"
      ],
      "metadata": {
        "id": "0BSz7y4qTlxz"
      }
    },
    {
      "cell_type": "code",
      "source": [
        "df['city'].value_counts()"
      ],
      "metadata": {
        "id": "Xi-fnDxIT_3U"
      },
      "execution_count": null,
      "outputs": []
    },
    {
      "cell_type": "markdown",
      "source": [
        "# How many times team has won the match after wining toss"
      ],
      "metadata": {
        "id": "k4gY83UhUTDP"
      }
    },
    {
      "cell_type": "code",
      "source": [
        "np.sum(df['toss_winner']==df['winner'])"
      ],
      "metadata": {
        "colab": {
          "base_uri": "https://localhost:8080/"
        },
        "id": "xXe7t9ydU2b3",
        "outputId": "e114ed03-30cb-409c-dabc-ac7450f59fdb"
      },
      "execution_count": 22,
      "outputs": [
        {
          "output_type": "execute_result",
          "data": {
            "text/plain": [
              "393"
            ]
          },
          "metadata": {},
          "execution_count": 22
        }
      ]
    },
    {
      "cell_type": "code",
      "source": [
        ""
      ],
      "metadata": {
        "id": "7Rp5pxlTVd3r"
      },
      "execution_count": null,
      "outputs": []
    },
    {
      "cell_type": "markdown",
      "source": [
        "# New section"
      ],
      "metadata": {
        "id": "UXIBz7sibPU1"
      }
    }
  ]
}