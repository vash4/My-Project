{
  "nbformat": 4,
  "nbformat_minor": 0,
  "metadata": {
    "colab": {
      "name": "Copy of GRIP : The Spark Foundation ",
      "provenance": [],
      "collapsed_sections": [],
      "toc_visible": true,
      "authorship_tag": "ABX9TyM0ZTKP2LF8iYhzdJdUC+NS",
      "include_colab_link": true
    },
    "kernelspec": {
      "name": "python3",
      "display_name": "Python 3"
    }
  },
  "cells": [
    {
      "cell_type": "markdown",
      "metadata": {
        "id": "view-in-github",
        "colab_type": "text"
      },
      "source": [
        "<a href=\"https://colab.research.google.com/github/vash4/My-Project/blob/master/Copy_of_GRIP_The_Spark_Foundation.ipynb\" target=\"_parent\"><img src=\"https://colab.research.google.com/assets/colab-badge.svg\" alt=\"Open In Colab\"/></a>"
      ]
    },
    {
      "cell_type": "markdown",
      "metadata": {
        "id": "jTcgPn2cnGJS"
      },
      "source": [
        "The Spark Foundation -Data Science & Business Analystics Inter- Task-1\r\n",
        "=======================================================================\r\n",
        "In this Predict the persentage of marks of the student based on study hours using R-Language"
      ]
    },
    {
      "cell_type": "code",
      "metadata": {
        "colab": {
          "base_uri": "https://localhost:8080/"
        },
        "id": "MOVPNVa8JCDx",
        "outputId": "b0532bab-a465-4b4c-fda3-5bf84d1e59de"
      },
      "source": [
        "%load_ext rpy2.ipython"
      ],
      "execution_count": 3,
      "outputs": [
        {
          "output_type": "stream",
          "text": [
            "The rpy2.ipython extension is already loaded. To reload it, use:\n",
            "  %reload_ext rpy2.ipython\n"
          ],
          "name": "stdout"
        }
      ]
    },
    {
      "cell_type": "code",
      "metadata": {
        "id": "QlAnUObvJOM_"
      },
      "source": [
        "%%R\r\n",
        "install.packages(\"tidyverse\")\r\n",
        "library(tidyverse)"
      ],
      "execution_count": null,
      "outputs": []
    },
    {
      "cell_type": "markdown",
      "metadata": {
        "id": "rz6oDIxNMKYj"
      },
      "source": [
        "# Install packages & use library"
      ]
    },
    {
      "cell_type": "code",
      "metadata": {
        "id": "SxPXXvrWKIh7"
      },
      "source": [
        "%%R\r\n",
        "install.packages(\"curl\")\r\n",
        "install.packages(\"data.table\")\r\n",
        "library(curl)\r\n",
        "library(data.table)"
      ],
      "execution_count": null,
      "outputs": []
    },
    {
      "cell_type": "markdown",
      "metadata": {
        "id": "tov7DqRZNFO6"
      },
      "source": [
        "Data upload "
      ]
    },
    {
      "cell_type": "code",
      "metadata": {
        "colab": {
          "base_uri": "https://localhost:8080/"
        },
        "id": "2tSImdW1M6Hw",
        "outputId": "dd5a7fff-5346-433b-e7b0-568e0e9d87e0"
      },
      "source": [
        "%%R\r\n",
        "student <- fread(\"https://raw.githubusercontent.com/AdiPersonalWorks/Random/master/student_scores%20-%20student_scores.csv\")\r\n",
        "head(student)"
      ],
      "execution_count": 19,
      "outputs": [
        {
          "output_type": "stream",
          "text": [
            "R[write to console]: \r [100%] Downloaded 146 bytes...\n",
            "R[write to console]: \n",
            "\n"
          ],
          "name": "stderr"
        },
        {
          "output_type": "stream",
          "text": [
            "   Hours Scores\n",
            "1:   2.5     21\n",
            "2:   5.1     47\n",
            "3:   3.2     27\n",
            "4:   8.5     75\n",
            "5:   3.5     30\n",
            "6:   1.5     20\n"
          ],
          "name": "stdout"
        }
      ]
    },
    {
      "cell_type": "markdown",
      "metadata": {
        "id": "O4OeX8MeNt4u"
      },
      "source": [
        "Use Table"
      ]
    },
    {
      "cell_type": "code",
      "metadata": {
        "colab": {
          "base_uri": "https://localhost:8080/"
        },
        "id": "PVwYqUFVNVQc",
        "outputId": "b291583e-5aed-412e-ec7a-b0518fc232d6"
      },
      "source": [
        "%%R\r\n",
        "table(student$Hours,student$Scores)"
      ],
      "execution_count": 30,
      "outputs": [
        {
          "output_type": "stream",
          "text": [
            "     \n",
            "      17 20 21 24 25 27 30 35 41 42 47 54 60 62 67 69 75 76 81 85 86 88 95\n",
            "  1.1  1  0  0  0  0  0  0  0  0  0  0  0  0  0  0  0  0  0  0  0  0  0  0\n",
            "  1.5  0  1  0  0  0  0  0  0  0  0  0  0  0  0  0  0  0  0  0  0  0  0  0\n",
            "  1.9  0  0  0  1  0  0  0  0  0  0  0  0  0  0  0  0  0  0  0  0  0  0  0\n",
            "  2.5  0  0  1  0  0  0  1  0  0  0  0  0  0  0  0  0  0  0  0  0  0  0  0\n",
            "  2.7  0  0  0  0  1  0  1  0  0  0  0  0  0  0  0  0  0  0  0  0  0  0  0\n",
            "  3.2  0  0  0  0  0  1  0  0  0  0  0  0  0  0  0  0  0  0  0  0  0  0  0\n",
            "  3.3  0  0  0  0  0  0  0  0  0  1  0  0  0  0  0  0  0  0  0  0  0  0  0\n",
            "  3.5  0  0  0  0  0  0  1  0  0  0  0  0  0  0  0  0  0  0  0  0  0  0  0\n",
            "  3.8  0  0  0  0  0  0  0  1  0  0  0  0  0  0  0  0  0  0  0  0  0  0  0\n",
            "  4.5  0  0  0  0  0  0  0  0  1  0  0  0  0  0  0  0  0  0  0  0  0  0  0\n",
            "  4.8  0  0  0  0  0  0  0  0  0  0  0  1  0  0  0  0  0  0  0  0  0  0  0\n",
            "  5.1  0  0  0  0  0  0  0  0  0  0  1  0  0  0  0  0  0  0  0  0  0  0  0\n",
            "  5.5  0  0  0  0  0  0  0  0  0  0  0  0  1  0  0  0  0  0  0  0  0  0  0\n",
            "  5.9  0  0  0  0  0  0  0  0  0  0  0  0  0  1  0  0  0  0  0  0  0  0  0\n",
            "  6.1  0  0  0  0  0  0  0  0  0  0  0  0  0  0  1  0  0  0  0  0  0  0  0\n",
            "  6.9  0  0  0  0  0  0  0  0  0  0  0  0  0  0  0  0  0  1  0  0  0  0  0\n",
            "  7.4  0  0  0  0  0  0  0  0  0  0  0  0  0  0  0  1  0  0  0  0  0  0  0\n",
            "  7.7  0  0  0  0  0  0  0  0  0  0  0  0  0  0  0  0  0  0  0  1  0  0  0\n",
            "  7.8  0  0  0  0  0  0  0  0  0  0  0  0  0  0  0  0  0  0  0  0  1  0  0\n",
            "  8.3  0  0  0  0  0  0  0  0  0  0  0  0  0  0  0  0  0  0  1  0  0  0  0\n",
            "  8.5  0  0  0  0  0  0  0  0  0  0  0  0  0  0  0  0  1  0  0  0  0  0  0\n",
            "  8.9  0  0  0  0  0  0  0  0  0  0  0  0  0  0  0  0  0  0  0  0  0  0  1\n",
            "  9.2  0  0  0  0  0  0  0  0  0  0  0  0  0  0  0  0  0  0  0  0  0  1  0\n"
          ],
          "name": "stdout"
        }
      ]
    },
    {
      "cell_type": "markdown",
      "metadata": {
        "id": "8YXesK6nN167"
      },
      "source": [
        "# Scatter plot"
      ]
    },
    {
      "cell_type": "code",
      "metadata": {
        "colab": {
          "base_uri": "https://localhost:8080/",
          "height": 497
        },
        "id": "4QdaPezzN4x4",
        "outputId": "a29246e0-00d0-4ed7-ed2b-6dd59faf65b7"
      },
      "source": [
        "%%R\r\n",
        "plot(student$Hours,student$Scores)"
      ],
      "execution_count": 31,
      "outputs": [
        {
          "output_type": "display_data",
          "data": {
            "image/png": "[encoded data removed]"
          },
          "metadata": {
            "tags": []
          }
        }
      ]
    },
    {
      "cell_type": "markdown",
      "metadata": {
        "id": "qculi7u3OEtF"
      },
      "source": [
        "#co-relation"
      ]
    },
    {
      "cell_type": "code",
      "metadata": {
        "colab": {
          "base_uri": "https://localhost:8080/"
        },
        "id": "BWo6B9D5OH9f",
        "outputId": "fbdc357b-44a7-48b7-e91f-2dcb0045e1fd"
      },
      "source": [
        "%%R\r\n",
        "cor(student$Hours,student$Scores)"
      ],
      "execution_count": 32,
      "outputs": [
        {
          "output_type": "stream",
          "text": [
            "[1] 0.9761907\n"
          ],
          "name": "stdout"
        }
      ]
    },
    {
      "cell_type": "markdown",
      "metadata": {
        "id": "v7wStQEMOQRp"
      },
      "source": [
        "#Simple Linear Regression Model Fitting"
      ]
    },
    {
      "cell_type": "code",
      "metadata": {
        "colab": {
          "base_uri": "https://localhost:8080/",
          "height": 636
        },
        "id": "2EUyPVLdOc-k",
        "outputId": "c82b30aa-7a63-434b-da7d-3d2513d0a15b"
      },
      "source": [
        "%%R\r\n",
        "model <-lm(Scores~Hours,data = student)\r\n",
        "summary(model)\r\n",
        "plot(Scores~Hours,data = student)\r\n",
        "abline(model)\r\n",
        "names(model)\r\n",
        "model"
      ],
      "execution_count": 33,
      "outputs": [
        {
          "output_type": "stream",
          "text": [
            "\n",
            "Call:\n",
            "lm(formula = Scores ~ Hours, data = student)\n",
            "\n",
            "Coefficients:\n",
            "(Intercept)        Hours  \n",
            "      2.484        9.776  \n",
            "\n"
          ],
          "name": "stdout"
        },
        {
          "output_type": "display_data",
          "data": {
            "image/png": "[encoded data removed]"
          },
          "metadata": {
            "tags": []
          }
        }
      ]
    },
    {
      "cell_type": "markdown",
      "metadata": {
        "id": "pbetdkDaOsVK"
      },
      "source": [
        "# Other Functions for Fitted Linear Model Objects"
      ]
    },
    {
      "cell_type": "code",
      "metadata": {
        "colab": {
          "base_uri": "https://localhost:8080/",
          "height": 977
        },
        "id": "2d_titj4OzIO",
        "outputId": "179d8f70-0c82-4200-ead8-3d9efce2e54b"
      },
      "source": [
        "%%R\r\n",
        "plot(fitted(model), resid(model))\r\n",
        "qqnorm(resid(model))"
      ],
      "execution_count": 26,
      "outputs": [
        {
          "output_type": "display_data",
          "data": {
            "image/png": "[encoded data removed]"
          },
          "metadata": {
            "tags": []
          }
        },
        {
          "output_type": "display_data",
          "data": {
            "image/png": "[encoded data removed]"
          },
          "metadata": {
            "tags": []
          }
        }
      ]
    },
    {
      "cell_type": "markdown",
      "metadata": {
        "id": "hIRc1G4NPDlo"
      },
      "source": [
        "# a student studies for 9.25 hrs/ day Prediction for new data set "
      ]
    },
    {
      "cell_type": "code",
      "metadata": {
        "colab": {
          "base_uri": "https://localhost:8080/"
        },
        "id": "s698cs5_PIiK",
        "outputId": "6193af3a-67d9-4f3f-f069-b13068d10e00"
      },
      "source": [
        "%%R\r\n",
        "p <- data.frame(Hours = 9.25)\r\n",
        "predict(model,newdata = p)"
      ],
      "execution_count": 27,
      "outputs": [
        {
          "output_type": "stream",
          "text": [
            "       1 \n",
            "92.90985 \n"
          ],
          "name": "stdout"
        }
      ]
    },
    {
      "cell_type": "code",
      "metadata": {
        "id": "iEEWkyIqNof5"
      },
      "source": [
        ""
      ],
      "execution_count": null,
      "outputs": []
    },
    {
      "cell_type": "markdown",
      "metadata": {
        "id": "5vdYN75dPsco"
      },
      "source": [
        "# Confidence interval"
      ]
    },
    {
      "cell_type": "code",
      "metadata": {
        "colab": {
          "base_uri": "https://localhost:8080/"
        },
        "id": "wvlOjEEfP1fW",
        "outputId": "2afe189d-440a-434a-8d0d-fe1cbe107e0e"
      },
      "source": [
        "%%R\r\n",
        "predict(model, newdata = p, interval = \"confidence\")"
      ],
      "execution_count": 28,
      "outputs": [
        {
          "output_type": "stream",
          "text": [
            "       fit     lwr      upr\n",
            "1 92.90985 88.3118 97.50791\n"
          ],
          "name": "stdout"
        }
      ]
    },
    {
      "cell_type": "markdown",
      "metadata": {
        "id": "wpNjFy1LQC0G"
      },
      "source": [
        "#Prediction interval"
      ]
    },
    {
      "cell_type": "code",
      "metadata": {
        "colab": {
          "base_uri": "https://localhost:8080/"
        },
        "id": "jCXuI-xVQGP4",
        "outputId": "f7a6a8da-5dd5-4895-dde0-a41a3f3a121b"
      },
      "source": [
        "%%R\r\n",
        "predict(model, newdata = p, interval = \"prediction\")"
      ],
      "execution_count": 29,
      "outputs": [
        {
          "output_type": "stream",
          "text": [
            "       fit      lwr      upr\n",
            "1 92.90985 80.44033 105.3794\n"
          ],
          "name": "stdout"
        }
      ]
    }
  ]
}