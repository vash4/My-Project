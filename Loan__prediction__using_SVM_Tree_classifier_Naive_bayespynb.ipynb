{
  "nbformat": 4,
  "nbformat_minor": 0,
  "metadata": {
    "colab": {
      "name": "Loan _prediction _using SVM_Tree_classifier_Naive_bayespynb",
      "provenance": [],
      "collapsed_sections": [],
      "authorship_tag": "ABX9TyOoTM8FbrtmvLWLnVYUUjLz",
      "include_colab_link": true
    },
    "kernelspec": {
      "name": "python3",
      "display_name": "Python 3"
    },
    "language_info": {
      "name": "python"
    }
  },
  "cells": [
    {
      "cell_type": "markdown",
      "metadata": {
        "id": "view-in-github",
        "colab_type": "text"
      },
      "source": [
        "<a href=\"https://colab.research.google.com/github/vash4/My-Project/blob/master/Loan__prediction__using_SVM_Tree_classifier_Naive_bayespynb.ipynb\" target=\"_parent\"><img src=\"https://colab.research.google.com/assets/colab-badge.svg\" alt=\"Open In Colab\"/></a>"
      ]
    },
    {
      "cell_type": "code",
      "execution_count": 25,
      "metadata": {
        "id": "fNr1aAmMrhni"
      },
      "outputs": [],
      "source": [
        "import pandas as pd \n",
        "import numpy as np\n",
        "import matplotlib.pyplot as plt\n",
        "import seaborn as sns\n",
        "from sklearn import svm\n",
        "from sklearn.model_selection import train_test_split\n",
        "from sklearn.metrics import accuracy_score\n",
        "from sklearn.preprocessing import LabelEncoder"
      ]
    },
    {
      "cell_type": "code",
      "source": [
        "df=pd.read_csv(\"/loan_data_set.csv\")\n",
        "df"
      ],
      "metadata": {
        "id": "NzVA8iyVtDoL"
      },
      "execution_count": null,
      "outputs": []
    },
    {
      "cell_type": "code",
      "source": [
        "df.shape"
      ],
      "metadata": {
        "id": "XbY4D64ZxNot"
      },
      "execution_count": null,
      "outputs": []
    },
    {
      "cell_type": "code",
      "source": [
        "df.describe()"
      ],
      "metadata": {
        "id": "161xC62TxQM6"
      },
      "execution_count": null,
      "outputs": []
    },
    {
      "cell_type": "code",
      "source": [
        "df.boxplot(column='ApplicantIncome')"
      ],
      "metadata": {
        "id": "8szs-ZECxmH4"
      },
      "execution_count": null,
      "outputs": []
    },
    {
      "cell_type": "code",
      "source": [
        "df['ApplicantIncome'].hist(bins=20)"
      ],
      "metadata": {
        "id": "jeuea3vmxpYk"
      },
      "execution_count": null,
      "outputs": []
    },
    {
      "cell_type": "code",
      "source": [
        "df.boxplot(column='ApplicantIncome',by ='Education')"
      ],
      "metadata": {
        "id": "76Mafzl7xpCs"
      },
      "execution_count": null,
      "outputs": []
    },
    {
      "cell_type": "code",
      "source": [
        "df.boxplot(column='LoanAmount')"
      ],
      "metadata": {
        "id": "fm4ssn5gxou2"
      },
      "execution_count": null,
      "outputs": []
    },
    {
      "cell_type": "code",
      "source": [
        "df['LoanAmount'].hist(bins=20)"
      ],
      "metadata": {
        "id": "uAwoHvCxx4R_"
      },
      "execution_count": null,
      "outputs": []
    },
    {
      "cell_type": "markdown",
      "source": [
        "\"\"\"Encoding Categorical Values\"\"\""
      ],
      "metadata": {
        "id": "moJz0eiJtuZ1"
      }
    },
    {
      "cell_type": "code",
      "source": [
        "df[\"Loan_Status\"].replace(['N','Y'],[0,1],inplace=True)\n",
        "print(df)"
      ],
      "metadata": {
        "id": "1jK_YOMRtlOU"
      },
      "execution_count": null,
      "outputs": []
    },
    {
      "cell_type": "code",
      "source": [
        "#Gender Encoding\n",
        "df= df.replace({\"Gender\":{\"Male\":1, \"Female\":0 }})\n",
        "print(df)"
      ],
      "metadata": {
        "id": "apy_dXmgtkkO"
      },
      "execution_count": null,
      "outputs": []
    },
    {
      "cell_type": "code",
      "source": [
        "#Married Encoding\n",
        "df =df.replace({\"Married\" :{\"Yes\":1, \"No\":0}})\n",
        "print(df)"
      ],
      "metadata": {
        "id": "QmDNfV5ouCF2"
      },
      "execution_count": null,
      "outputs": []
    },
    {
      "cell_type": "code",
      "source": [
        "# replacing value 3 to 4\n",
        "df['Dependents'] = df['Dependents'].replace('3+', '4')\n",
        "print(df)"
      ],
      "metadata": {
        "id": "76Agvuy_uBz1"
      },
      "execution_count": null,
      "outputs": []
    },
    {
      "cell_type": "code",
      "source": [
        "#Count the quantity of values on the column\n",
        "df['Self_Employed'].value_counts()\n",
        "df= df.replace({\"Self_Employed\":{\"Yes\":1, \"No\":0 }})\n",
        "print(df)"
      ],
      "metadata": {
        "id": "_ZtJH1_vuBwe"
      },
      "execution_count": null,
      "outputs": []
    },
    {
      "cell_type": "code",
      "source": [
        "#Education Encoding\n",
        "df['Education'].value_counts()\n",
        "df= df.replace({\"Education\":{\"Graduate\":1, \"Not Graduate\":0 }})\n",
        "print(df)"
      ],
      "metadata": {
        "id": "k5RosjcfuBtn"
      },
      "execution_count": null,
      "outputs": []
    },
    {
      "cell_type": "code",
      "source": [
        "#Drop the Loan ID column\n",
        "#df = df.drop(columns=['Loan_ID'],axis=1)\n",
        "#print(df)"
      ],
      "metadata": {
        "id": "wqJhDu9kuBq5"
      },
      "execution_count": 61,
      "outputs": []
    },
    {
      "cell_type": "code",
      "source": [
        "df['Property_Area'].value_counts()\n",
        "df=df.replace({'Property_Area':{'Rural':0,'Semiurban':1,'Urban':2}})\n",
        "print(df)"
      ],
      "metadata": {
        "id": "AynS6bh5uBod"
      },
      "execution_count": null,
      "outputs": []
    },
    {
      "cell_type": "code",
      "source": [
        "#Replace method\n",
        "df[\"Loan_Status\"].replace(['N','Y'],[0,1],inplace=True)\n",
        "print(df)"
      ],
      "metadata": {
        "id": "FwAMrWqNuBl0"
      },
      "execution_count": null,
      "outputs": []
    },
    {
      "cell_type": "code",
      "source": [
        "df.isnull().sum()"
      ],
      "metadata": {
        "id": "XboN5UC-uBdN"
      },
      "execution_count": null,
      "outputs": []
    },
    {
      "cell_type": "code",
      "source": [
        "df=df.dropna()\n",
        "df"
      ],
      "metadata": {
        "id": "tvDNLQ63uBSA"
      },
      "execution_count": null,
      "outputs": []
    },
    {
      "cell_type": "code",
      "source": [
        "# Sepratingt the data and label\n",
        "x=df.drop(columns=['Loan_Status'],axis=1)\n",
        "y=df['Loan_Status']\n",
        "x\n",
        "#y"
      ],
      "metadata": {
        "id": "5Zd_MeTxuBFw"
      },
      "execution_count": null,
      "outputs": []
    },
    {
      "cell_type": "markdown",
      "source": [
        "# Data Visualization"
      ],
      "metadata": {
        "id": "NcWKjUw_0bfq"
      }
    },
    {
      "cell_type": "code",
      "source": [
        "#Education and loan_status\n",
        "sns.countplot(x='Education',hue='Loan_Status',data=df)"
      ],
      "metadata": {
        "id": "Un7I02IquA4w"
      },
      "execution_count": null,
      "outputs": []
    },
    {
      "cell_type": "code",
      "source": [
        "#Education and loan_status\n",
        "sns.countplot(x='Married',hue='Loan_Status',data=df)"
      ],
      "metadata": {
        "id": "3YzkLxrPuAq_"
      },
      "execution_count": null,
      "outputs": []
    },
    {
      "cell_type": "code",
      "source": [
        "# Trainind & Testing\n",
        "x_train,x_test,y_train,y_test=train_test_split(x,y,test_size=0.2,random_state=0)\n",
        "print(x.shape,x_train.shape,x_test.shape)"
      ],
      "metadata": {
        "id": "SF1urZHGuAcQ"
      },
      "execution_count": null,
      "outputs": []
    },
    {
      "cell_type": "code",
      "source": [
        "#training the model using SVM\n",
        "classifier=svm.SVC(kernel='linear')"
      ],
      "metadata": {
        "id": "eYwGnHHk0onl"
      },
      "execution_count": 66,
      "outputs": []
    },
    {
      "cell_type": "code",
      "source": [
        "classifier.fit(x_train,y_train)"
      ],
      "metadata": {
        "colab": {
          "base_uri": "https://localhost:8080/"
        },
        "id": "l2zUtL25092y",
        "outputId": "fcf11402-c28c-4ab3-f769-33e8fb2af830"
      },
      "execution_count": 68,
      "outputs": [
        {
          "output_type": "execute_result",
          "data": {
            "text/plain": [
              "SVC(kernel='linear')"
            ]
          },
          "metadata": {},
          "execution_count": 68
        }
      ]
    },
    {
      "cell_type": "markdown",
      "source": [
        "Model Evaluation"
      ],
      "metadata": {
        "id": "Sgw8i21u20y3"
      }
    },
    {
      "cell_type": "code",
      "source": [
        "#accuracy score on training and testing\n",
        "y_pre=classifier.predict(x_train)\n",
        "y_pre"
      ],
      "metadata": {
        "id": "Oy4R47VU2uLt"
      },
      "execution_count": null,
      "outputs": []
    },
    {
      "cell_type": "code",
      "source": [
        "ac_train=accuracy_score(y_pre,y_train)\n",
        "print(ac_train)"
      ],
      "metadata": {
        "id": "ui0L0Tbr5qp8"
      },
      "execution_count": null,
      "outputs": []
    },
    {
      "cell_type": "code",
      "source": [
        "x_pre=classifier.predict(x_test)\n",
        "x_pre"
      ],
      "metadata": {
        "id": "8Bm2UQhT3iOx"
      },
      "execution_count": null,
      "outputs": []
    },
    {
      "cell_type": "code",
      "source": [
        "ac_test=accuracy_score(x_pre,y_test)\n",
        "print(ac_test)"
      ],
      "metadata": {
        "id": "Ok8AVOTv4iA2"
      },
      "execution_count": null,
      "outputs": []
    },
    {
      "cell_type": "code",
      "source": [
        "from sklearn.tree import DecisionTreeClassifier"
      ],
      "metadata": {
        "id": "nceWqXSY5Jo4"
      },
      "execution_count": 83,
      "outputs": []
    },
    {
      "cell_type": "code",
      "source": [
        "dtc_classifier=DecisionTreeClassifier(criterion='entropy',random_state=0)"
      ],
      "metadata": {
        "id": "mLV502fc6SVE"
      },
      "execution_count": 84,
      "outputs": []
    },
    {
      "cell_type": "code",
      "source": [
        "dtc_classifier.fit(x_train,y_train)"
      ],
      "metadata": {
        "id": "MKMsSLxa6SH-"
      },
      "execution_count": null,
      "outputs": []
    },
    {
      "cell_type": "code",
      "source": [
        "y_pre=dtc_classifier.predict(x_test)\n",
        "y_pre"
      ],
      "metadata": {
        "id": "AvbJhmdT7M_Q"
      },
      "execution_count": null,
      "outputs": []
    },
    {
      "cell_type": "code",
      "source": [
        "from sklearn.metrics import accuracy_score"
      ],
      "metadata": {
        "id": "Zs91VEqy7Mt1"
      },
      "execution_count": 95,
      "outputs": []
    },
    {
      "cell_type": "code",
      "source": [
        "ac=accuracy_score(y_pre,y_test)\n",
        "ac"
      ],
      "metadata": {
        "id": "7lJyd64a9Maq"
      },
      "execution_count": null,
      "outputs": []
    },
    {
      "cell_type": "code",
      "source": [
        "from sklearn.naive_bayes import GaussianNB"
      ],
      "metadata": {
        "id": "ZXTfAv7D98Pu"
      },
      "execution_count": 99,
      "outputs": []
    },
    {
      "cell_type": "code",
      "source": [
        "nbc=GaussianNB()"
      ],
      "metadata": {
        "id": "LEjVwLXT-Ksq"
      },
      "execution_count": 100,
      "outputs": []
    },
    {
      "cell_type": "code",
      "source": [
        "nbc.fit(x_train,y_train)"
      ],
      "metadata": {
        "colab": {
          "base_uri": "https://localhost:8080/"
        },
        "id": "dyDweMrd-T0S",
        "outputId": "a1eaebb4-f9a3-4e12-8da9-d4519b0db92f"
      },
      "execution_count": 102,
      "outputs": [
        {
          "output_type": "execute_result",
          "data": {
            "text/plain": [
              "GaussianNB()"
            ]
          },
          "metadata": {},
          "execution_count": 102
        }
      ]
    },
    {
      "cell_type": "code",
      "source": [
        "y_pre=nbc.predict(x_test)\n",
        "y_pre"
      ],
      "metadata": {
        "id": "ueCLnv9K-Tl8"
      },
      "execution_count": null,
      "outputs": []
    },
    {
      "cell_type": "code",
      "source": [
        "acc=accuracy_score(y_pre,y_test)\n",
        "acc"
      ],
      "metadata": {
        "colab": {
          "base_uri": "https://localhost:8080/"
        },
        "id": "oEgG4ZDD--3z",
        "outputId": "1e2a5ec5-bc1f-4bb4-9013-3c6d00d5398c"
      },
      "execution_count": 104,
      "outputs": [
        {
          "output_type": "execute_result",
          "data": {
            "text/plain": [
              "0.7708333333333334"
            ]
          },
          "metadata": {},
          "execution_count": 104
        }
      ]
    }
  ]
}