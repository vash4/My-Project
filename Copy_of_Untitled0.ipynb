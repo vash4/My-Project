{
  "nbformat": 4,
  "nbformat_minor": 0,
  "metadata": {
    "colab": {
      "name": "Copy of Untitled0.ipynb",
      "provenance": [],
      "collapsed_sections": [],
      "authorship_tag": "ABX9TyNc/FlMbuUZdnC6qdOZmi1X",
      "include_colab_link": true
    },
    "kernelspec": {
      "name": "python3",
      "display_name": "Python 3"
    },
    "accelerator": "GPU"
  },
  "cells": [
    {
      "cell_type": "markdown",
      "metadata": {
        "id": "view-in-github",
        "colab_type": "text"
      },
      "source": [
        "<a href=\"https://colab.research.google.com/github/vash4/My-Project/blob/master/Copy_of_Untitled0.ipynb\" target=\"_parent\"><img src=\"https://colab.research.google.com/assets/colab-badge.svg\" alt=\"Open In Colab\"/></a>"
      ]
    },
    {
      "cell_type": "code",
      "metadata": {
        "id": "w8a-aYAMJzBx"
      },
      "source": [
        "#Cell-1\r\n",
        "%tensorflow_version 1.x\r\n",
        "import tensorflow\r\n",
        "print(tensorflow.__version__)\r\n"
      ],
      "execution_count": null,
      "outputs": []
    },
    {
      "cell_type": "code",
      "metadata": {
        "id": "TWVv8DPEKgNn"
      },
      "source": [
        "#Cell-2\r\n",
        "!git clone https://github.com/NVlabs/stylegan2.git\r\n"
      ],
      "execution_count": null,
      "outputs": []
    },
    {
      "cell_type": "code",
      "metadata": {
        "id": "LwOFgKfcK2IF"
      },
      "source": [
        "#Cell-3\r\n",
        "!python /content/stylegan2/run_generator.py generate-images \\\r\n",
        "--network=gdrive:networks/stylegan2-ffhq-config-f.pkl \\\r\n",
        " --seeds=1-50 --truncation-psi=0.5\r\n"
      ],
      "execution_count": null,
      "outputs": []
    },
    {
      "cell_type": "code",
      "metadata": {
        "id": "kLpNCEjdLy-C"
      },
      "source": [
        "#Cell-4\r\n",
        "!ffmpeg -r 3 -i /content/results/00000-generate-images/seed%04d.png -vcodec mpeg4 -y people.mp4\r\n"
      ],
      "execution_count": null,
      "outputs": []
    },
    {
      "cell_type": "code",
      "metadata": {
        "id": "p9nLrpVnL-kO"
      },
      "source": [
        "#Cell-5\r\n",
        "!cp people.mp4 /content\r\n"
      ],
      "execution_count": null,
      "outputs": []
    },
    {
      "cell_type": "code",
      "metadata": {
        "id": "W53xg-sVM0p6"
      },
      "source": [
        "#Cell-6\r\n",
        "import sys\r\n",
        "sys.path.insert(0, \"/content/stylegan2\")\r\n"
      ],
      "execution_count": null,
      "outputs": []
    },
    {
      "cell_type": "code",
      "metadata": {
        "id": "Zl6SF6FhM9Qz"
      },
      "source": [
        "#Cell-7\r\n",
        "import argparse\r\n",
        "import numpy as np\r\n",
        "import PIL.Image\r\n",
        "import dnnlib\r\n",
        "import dnnlib.tflib as tflib\r\n",
        "import re\r\n",
        "import sys\r\n",
        "import pretrained_networks\r\n"
      ],
      "execution_count": null,
      "outputs": []
    },
    {
      "cell_type": "code",
      "metadata": {
        "id": "1mwtHfnlNACH"
      },
      "source": [
        "#Cell-8\r\n",
        "def seeder(seeds, vector_size):\r\n",
        " result = []\r\n",
        " for seed in seeds:\r\n",
        "   rnd = np.random.RandomState(seed)\r\n",
        "   result.append( rnd.randn(1, vector_size))\r\n",
        " return result\r\n",
        "\r\n"
      ],
      "execution_count": null,
      "outputs": []
    },
    {
      "cell_type": "code",
      "metadata": {
        "id": "4Krwfem4NI50"
      },
      "source": [
        "#Cell-9\r\n",
        "def generate_images(gs, seeds, truncation_psi):\r\n",
        "   noise_vars = [var for name, var in Gs.components.synthesis.vars.items() if name.startswith('noise')]\r\n",
        " \r\n",
        "   Gs_kwargs = dnnlib.EasyDict()\r\n",
        "   Gs_kwargs.output_transform = dict(func=tflib.convert_images_to_uint8, nchw_to_nhwc=True)\r\n",
        "   Gs_kwargs.randomize_noise = False\r\n",
        "   if truncation_psi is not None:\r\n",
        "       Gs_kwargs.truncation_psi = truncation_psi\r\n",
        " \r\n",
        "   for seed_idx, seed in enumerate(seeds):\r\n",
        "       print('Generating image for seed %d/%d ...' % (seed_idx, len(seeds)))\r\n",
        "       rnd = np.random.RandomState()\r\n",
        "       tflib.set_vars({var: rnd.randn(*var.shape.as_list()) for var in noise_vars}) # [height, width]\r\n",
        "       images = Gs.run(seed, None, **Gs_kwargs) # [minibatch, height, width, channel]\r\n",
        "       path = f\"/content/out/image{seed_idx}.png\"\r\n",
        "       PIL.Image.fromarray(images[0], 'RGB').save(path)\r\n",
        "\r\n",
        "\r\n",
        "\r\n"
      ],
      "execution_count": null,
      "outputs": []
    },
    {
      "cell_type": "code",
      "metadata": {
        "id": "sLdgra8LNQUz"
      },
      "source": [
        "#Cell-10\r\n",
        "network_pkl = \"gdrive:networks/stylegan2-ffhq-config-f.pkl\"\r\n",
        "print('Loading networks from \"%s\"...' % network_pkl)\r\n",
        "Gs = pretrained_networks.load_networks(network_pkl)\r\n"
      ],
      "execution_count": null,
      "outputs": []
    },
    {
      "cell_type": "code",
      "metadata": {
        "id": "CUG0aku1NW0i"
      },
      "source": [
        "#Cell-11\r\n",
        "vector_size = Gs.input_shape[1:][0]\r\n",
        "seeds = seeder(range(6, 5), vector_size)\r\n",
        "\r\n",
        "\r\n",
        "\r\n"
      ],
      "execution_count": null,
      "outputs": []
    },
    {
      "cell_type": "code",
      "metadata": {
        "id": "gd4B0aJANbTd",
        "colab": {
          "base_uri": "https://localhost:8080/"
        },
        "outputId": "6e6e5af6-d1a7-48db-c754-4141a1a565f6"
      },
      "source": [
        "#Cell-12\r\n",
        "!mkdir /content/out\r\n",
        "\r\n"
      ],
      "execution_count": null,
      "outputs": [
        {
          "output_type": "stream",
          "text": [
            "mkdir: cannot create directory ‘/content/out’: File exists\n"
          ],
          "name": "stdout"
        }
      ]
    },
    {
      "cell_type": "code",
      "metadata": {
        "colab": {
          "base_uri": "https://localhost:8080/",
          "height": 184
        },
        "id": "qus3cjlhNeO7",
        "outputId": "42d7bd57-5048-4681-c607-e4f4da4e1343"
      },
      "source": [
        "#Cell-13\r\n",
        "seeds = seeder([6, 5], vector_size)\r\n"
      ],
      "execution_count": 1,
      "outputs": [
        {
          "output_type": "error",
          "ename": "NameError",
          "evalue": "ignored",
          "traceback": [
            "\u001b[0;31m---------------------------------------------------------------------------\u001b[0m",
            "\u001b[0;31mNameError\u001b[0m                                 Traceback (most recent call last)",
            "\u001b[0;32m<ipython-input-1-9f4d4aee12e7>\u001b[0m in \u001b[0;36m<module>\u001b[0;34m()\u001b[0m\n\u001b[1;32m      1\u001b[0m \u001b[0;31m#Cell-13\u001b[0m\u001b[0;34m\u001b[0m\u001b[0;34m\u001b[0m\u001b[0;34m\u001b[0m\u001b[0m\n\u001b[0;32m----> 2\u001b[0;31m \u001b[0mseeds\u001b[0m \u001b[0;34m=\u001b[0m \u001b[0mseeder\u001b[0m\u001b[0;34m(\u001b[0m\u001b[0;34m[\u001b[0m\u001b[0;36m6\u001b[0m\u001b[0;34m,\u001b[0m \u001b[0;36m5\u001b[0m\u001b[0;34m]\u001b[0m\u001b[0;34m,\u001b[0m \u001b[0mvector_size\u001b[0m\u001b[0;34m)\u001b[0m\u001b[0;34m\u001b[0m\u001b[0;34m\u001b[0m\u001b[0m\n\u001b[0m",
            "\u001b[0;31mNameError\u001b[0m: name 'seeder' is not defined"
          ]
        }
      ]
    },
    {
      "cell_type": "code",
      "metadata": {
        "id": "pp68uHQlNhO0"
      },
      "source": [
        "#Cell-14\r\n",
        "STEPS = 300\r\n",
        "diff = seeds[1] - seeds[0]\r\n",
        "step = diff / STEPS\r\n",
        "current = seeds[0].copy()\r\n",
        " \r\n",
        "seeds2 = []\r\n",
        "for i in range(STEPS):\r\n",
        " seeds2.append(current)\r\n",
        " current = current + step\r\n"
      ],
      "execution_count": null,
      "outputs": []
    },
    {
      "cell_type": "code",
      "metadata": {
        "id": "mTQjqgbANlnW"
      },
      "source": [
        "#Cell-15\r\n",
        "generate_images(Gs, seeds2, truncation_psi=0.01)\r\n"
      ],
      "execution_count": null,
      "outputs": []
    },
    {
      "cell_type": "code",
      "metadata": {
        "id": "QLTP_MD_NoNV",
        "colab": {
          "base_uri": "https://localhost:8080/"
        },
        "outputId": "bb112c90-819c-411a-e942-6d3f5219f529"
      },
      "source": [
        "#Cell-16\r\n",
        "!ffmpeg -r 50 -i /content/out/image%d.png -vcodec mpeg4 -y faces.mp4\r\n"
      ],
      "execution_count": null,
      "outputs": [
        {
          "output_type": "stream",
          "text": [
            "ffmpeg version 3.4.8-0ubuntu0.2 Copyright (c) 2000-2020 the FFmpeg developers\n",
            "  built with gcc 7 (Ubuntu 7.5.0-3ubuntu1~18.04)\n",
            "  configuration: --prefix=/usr --extra-version=0ubuntu0.2 --toolchain=hardened --libdir=/usr/lib/x86_64-linux-gnu --incdir=/usr/include/x86_64-linux-gnu --enable-gpl --disable-stripping --enable-avresample --enable-avisynth --enable-gnutls --enable-ladspa --enable-libass --enable-libbluray --enable-libbs2b --enable-libcaca --enable-libcdio --enable-libflite --enable-libfontconfig --enable-libfreetype --enable-libfribidi --enable-libgme --enable-libgsm --enable-libmp3lame --enable-libmysofa --enable-libopenjpeg --enable-libopenmpt --enable-libopus --enable-libpulse --enable-librubberband --enable-librsvg --enable-libshine --enable-libsnappy --enable-libsoxr --enable-libspeex --enable-libssh --enable-libtheora --enable-libtwolame --enable-libvorbis --enable-libvpx --enable-libwavpack --enable-libwebp --enable-libx265 --enable-libxml2 --enable-libxvid --enable-libzmq --enable-libzvbi --enable-omx --enable-openal --enable-opengl --enable-sdl2 --enable-libdc1394 --enable-libdrm --enable-libiec61883 --enable-chromaprint --enable-frei0r --enable-libopencv --enable-libx264 --enable-shared\n",
            "  libavutil      55. 78.100 / 55. 78.100\n",
            "  libavcodec     57.107.100 / 57.107.100\n",
            "  libavformat    57. 83.100 / 57. 83.100\n",
            "  libavdevice    57. 10.100 / 57. 10.100\n",
            "  libavfilter     6.107.100 /  6.107.100\n",
            "  libavresample   3.  7.  0 /  3.  7.  0\n",
            "  libswscale      4.  8.100 /  4.  8.100\n",
            "  libswresample   2.  9.100 /  2.  9.100\n",
            "  libpostproc    54.  7.100 / 54.  7.100\n",
            "\u001b[0;35m[image2 @ 0x556dc0116000] \u001b[0m\u001b[1;31mCould find no file with path '/content/out/image%d.png' and index in the range 0-4\n",
            "\u001b[0m\u001b[1;31m/content/out/image%d.png: No such file or directory\n",
            "\u001b[0m"
          ],
          "name": "stdout"
        }
      ]
    },
    {
      "cell_type": "code",
      "metadata": {
        "id": "-29Gk6mONrRm"
      },
      "source": [
        "#Cell-17\r\n",
        "!cp faces.mp4 /content\r\n"
      ],
      "execution_count": null,
      "outputs": []
    }
  ]
}