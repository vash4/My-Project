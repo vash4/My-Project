{
  "nbformat": 4,
  "nbformat_minor": 0,
  "metadata": {
    "colab": {
      "name": "Copy of Decision Tree",
      "provenance": [],
      "collapsed_sections": [],
      "authorship_tag": "ABX9TyNWym1glp+OqfqKQ/3NKgW3",
      "include_colab_link": true
    },
    "kernelspec": {
      "name": "python3",
      "display_name": "Python 3"
    }
  },
  "cells": [
    {
      "cell_type": "markdown",
      "metadata": {
        "id": "view-in-github",
        "colab_type": "text"
      },
      "source": [
        "<a href=\"https://colab.research.google.com/github/vash4/My-Project/blob/master/Copy_of_Decision_Tree.ipynb\" target=\"_parent\"><img src=\"https://colab.research.google.com/assets/colab-badge.svg\" alt=\"Open In Colab\"/></a>"
      ]
    },
    {
      "cell_type": "markdown",
      "metadata": {
        "id": "gx6REq-qP4JJ"
      },
      "source": [
        "GRIP- The Sparks Foundation--Data Science & Business Analystics Inter- Task-4 Decision Tree classifier and visualize it graphically."
      ]
    },
    {
      "cell_type": "code",
      "metadata": {
        "id": "izmglq8KQQdd"
      },
      "source": [
        "%load_ext rpy2.ipython"
      ],
      "execution_count": null,
      "outputs": []
    },
    {
      "cell_type": "code",
      "metadata": {
        "id": "b680lHm9Gh5l"
      },
      "source": [
        "%%R\r\n",
        "# Installing Packages \r\n",
        "install.packages(\"dplyr\") \r\n",
        "install.packages(\"party\")  \r\n",
        "install.packages(\"rpart\")  \r\n",
        "install.packages(\"rpart.plot\")\r\n"
      ],
      "execution_count": null,
      "outputs": []
    },
    {
      "cell_type": "code",
      "metadata": {
        "id": "gWKL8GVNRndb"
      },
      "source": [
        "%%R\r\n",
        "# Upload library\r\n",
        "library(dplyr)\r\n",
        "library(party) # decision tree\r\n",
        "library(rpart)\r\n",
        "library(rpart.plot)\r\n"
      ],
      "execution_count": null,
      "outputs": []
    },
    {
      "cell_type": "code",
      "metadata": {
        "id": "3xfdtAMQS4he",
        "colab": {
          "base_uri": "https://localhost:8080/"
        },
        "outputId": "279e23a9-09db-4531-fd1f-a833e6356df5"
      },
      "source": [
        "%%R\r\n",
        "# Loading data \r\n",
        "#iris <- readline(\"https://bit.ly//3kXTdox\") \r\n",
        "data(iris)\r\n",
        "str(iris)\r\n",
        "summary(iris)\r\n",
        "\r\n",
        "\r\n"
      ],
      "execution_count": null,
      "outputs": [
        {
          "output_type": "stream",
          "text": [
            "'data.frame':\t150 obs. of  5 variables:\n",
            " $ Sepal.Length: num  5.1 4.9 4.7 4.6 5 5.4 4.6 5 4.4 4.9 ...\n",
            " $ Sepal.Width : num  3.5 3 3.2 3.1 3.6 3.9 3.4 3.4 2.9 3.1 ...\n",
            " $ Petal.Length: num  1.4 1.4 1.3 1.5 1.4 1.7 1.4 1.5 1.4 1.5 ...\n",
            " $ Petal.Width : num  0.2 0.2 0.2 0.2 0.2 0.4 0.3 0.2 0.2 0.1 ...\n",
            " $ Species     : Factor w/ 3 levels \"setosa\",\"versicolor\",..: 1 1 1 1 1 1 1 1 1 1 ...\n",
            "  Sepal.Length    Sepal.Width     Petal.Length    Petal.Width   \n",
            " Min.   :4.300   Min.   :2.000   Min.   :1.000   Min.   :0.100  \n",
            " 1st Qu.:5.100   1st Qu.:2.800   1st Qu.:1.600   1st Qu.:0.300  \n",
            " Median :5.800   Median :3.000   Median :4.350   Median :1.300  \n",
            " Mean   :5.843   Mean   :3.057   Mean   :3.758   Mean   :1.199  \n",
            " 3rd Qu.:6.400   3rd Qu.:3.300   3rd Qu.:5.100   3rd Qu.:1.800  \n",
            " Max.   :7.900   Max.   :4.400   Max.   :6.900   Max.   :2.500  \n",
            "       Species  \n",
            " setosa    :50  \n",
            " versicolor:50  \n",
            " virginica :50  \n",
            "                \n",
            "                \n",
            "                \n"
          ],
          "name": "stdout"
        }
      ]
    },
    {
      "cell_type": "code",
      "metadata": {
        "id": "09MjL4ghT52x",
        "colab": {
          "base_uri": "https://localhost:8080/"
        },
        "outputId": "13c39e94-e9c5-4ec0-b114-741df6918876"
      },
      "source": [
        "%%R\r\n",
        "set.seed(1234)\r\n",
        "pd <- sample( 2, nrow(iris),replace = TRUE, prob = c(0.8,0.2))\r\n",
        "train <- iris[pd==1,]\r\n",
        "test <- iris[pd==2,]\r\n",
        "summary(pd)\r\n"
      ],
      "execution_count": null,
      "outputs": [
        {
          "output_type": "stream",
          "text": [
            "   Min. 1st Qu.  Median    Mean 3rd Qu.    Max. \n",
            "   1.00    1.00    1.00    1.18    1.00    2.00 \n"
          ],
          "name": "stdout"
        }
      ]
    },
    {
      "cell_type": "code",
      "metadata": {
        "id": "tcX7G1H0LHhM"
      },
      "source": [
        ""
      ],
      "execution_count": null,
      "outputs": []
    },
    {
      "cell_type": "code",
      "metadata": {
        "id": "b_cyIET1LIO6",
        "colab": {
          "base_uri": "https://localhost:8080/",
          "height": 497
        },
        "outputId": "953e23db-cbf2-4821-b5c9-06b8a606a39f"
      },
      "source": [
        "%%R\r\n",
        "# decision tree with party\r\n",
        "tree <- ctree(Species ~ ., data = train )\r\n",
        "tree\r\n",
        "plot(tree)\r\n"
      ],
      "execution_count": null,
      "outputs": [
        {
          "output_type": "display_data",
          "data": {
            "image/png": "[encoded data removed]"
          },
          "metadata": {
            "tags": []
          }
        }
      ]
    },
    {
      "cell_type": "code",
      "metadata": {
        "id": "8nBG5FCDWtKI",
        "colab": {
          "base_uri": "https://localhost:8080/"
        },
        "outputId": "2f1b6796-00fc-448f-d231-3fd491b1483c"
      },
      "source": [
        "%%R\r\n",
        "# predict\r\n",
        "predict(tree,train,type = 'prob')"
      ],
      "execution_count": null,
      "outputs": [
        {
          "output_type": "stream",
          "text": [
            "    setosa versicolor  virginica\n",
            "1        1 0.00000000 0.00000000\n",
            "2        1 0.00000000 0.00000000\n",
            "3        1 0.00000000 0.00000000\n",
            "4        1 0.00000000 0.00000000\n",
            "6        1 0.00000000 0.00000000\n",
            "7        1 0.00000000 0.00000000\n",
            "8        1 0.00000000 0.00000000\n",
            "9        1 0.00000000 0.00000000\n",
            "10       1 0.00000000 0.00000000\n",
            "11       1 0.00000000 0.00000000\n",
            "12       1 0.00000000 0.00000000\n",
            "13       1 0.00000000 0.00000000\n",
            "15       1 0.00000000 0.00000000\n",
            "17       1 0.00000000 0.00000000\n",
            "18       1 0.00000000 0.00000000\n",
            "19       1 0.00000000 0.00000000\n",
            "20       1 0.00000000 0.00000000\n",
            "21       1 0.00000000 0.00000000\n",
            "22       1 0.00000000 0.00000000\n",
            "23       1 0.00000000 0.00000000\n",
            "24       1 0.00000000 0.00000000\n",
            "25       1 0.00000000 0.00000000\n",
            "27       1 0.00000000 0.00000000\n",
            "30       1 0.00000000 0.00000000\n",
            "31       1 0.00000000 0.00000000\n",
            "32       1 0.00000000 0.00000000\n",
            "33       1 0.00000000 0.00000000\n",
            "34       1 0.00000000 0.00000000\n",
            "35       1 0.00000000 0.00000000\n",
            "36       1 0.00000000 0.00000000\n",
            "37       1 0.00000000 0.00000000\n",
            "38       1 0.00000000 0.00000000\n",
            "41       1 0.00000000 0.00000000\n",
            "42       1 0.00000000 0.00000000\n",
            "43       1 0.00000000 0.00000000\n",
            "44       1 0.00000000 0.00000000\n",
            "45       1 0.00000000 0.00000000\n",
            "46       1 0.00000000 0.00000000\n",
            "47       1 0.00000000 0.00000000\n",
            "48       1 0.00000000 0.00000000\n",
            "49       1 0.00000000 0.00000000\n",
            "50       1 0.00000000 0.00000000\n",
            "51       0 0.91304348 0.08695652\n",
            "52       0 0.91304348 0.08695652\n",
            "53       0 0.91304348 0.08695652\n",
            "54       0 0.91304348 0.08695652\n",
            "55       0 0.91304348 0.08695652\n",
            "56       0 0.91304348 0.08695652\n",
            "57       0 0.91304348 0.08695652\n",
            "58       0 0.91304348 0.08695652\n",
            "59       0 0.91304348 0.08695652\n",
            "62       0 0.91304348 0.08695652\n",
            "63       0 0.91304348 0.08695652\n",
            "64       0 0.91304348 0.08695652\n",
            "65       0 0.91304348 0.08695652\n",
            "66       0 0.91304348 0.08695652\n",
            "67       0 0.91304348 0.08695652\n",
            "68       0 0.91304348 0.08695652\n",
            "69       0 0.91304348 0.08695652\n",
            "70       0 0.91304348 0.08695652\n",
            "71       0 0.02857143 0.97142857\n",
            "73       0 0.91304348 0.08695652\n",
            "74       0 0.91304348 0.08695652\n",
            "75       0 0.91304348 0.08695652\n",
            "76       0 0.91304348 0.08695652\n",
            "77       0 0.91304348 0.08695652\n",
            "78       0 0.91304348 0.08695652\n",
            "79       0 0.91304348 0.08695652\n",
            "80       0 0.91304348 0.08695652\n",
            "82       0 0.91304348 0.08695652\n",
            "83       0 0.91304348 0.08695652\n",
            "84       0 0.91304348 0.08695652\n",
            "85       0 0.91304348 0.08695652\n",
            "87       0 0.91304348 0.08695652\n",
            "88       0 0.91304348 0.08695652\n",
            "89       0 0.91304348 0.08695652\n",
            "91       0 0.91304348 0.08695652\n",
            "93       0 0.91304348 0.08695652\n",
            "94       0 0.91304348 0.08695652\n",
            "95       0 0.91304348 0.08695652\n",
            "96       0 0.91304348 0.08695652\n",
            "97       0 0.91304348 0.08695652\n",
            "98       0 0.91304348 0.08695652\n",
            "99       0 0.91304348 0.08695652\n",
            "100      0 0.91304348 0.08695652\n",
            "101      0 0.02857143 0.97142857\n",
            "102      0 0.02857143 0.97142857\n",
            "103      0 0.02857143 0.97142857\n",
            "104      0 0.02857143 0.97142857\n",
            "105      0 0.02857143 0.97142857\n",
            "106      0 0.02857143 0.97142857\n",
            "107      0 0.91304348 0.08695652\n",
            "108      0 0.02857143 0.97142857\n",
            "109      0 0.02857143 0.97142857\n",
            "110      0 0.02857143 0.97142857\n",
            "111      0 0.02857143 0.97142857\n",
            "112      0 0.02857143 0.97142857\n",
            "114      0 0.02857143 0.97142857\n",
            "115      0 0.02857143 0.97142857\n",
            "118      0 0.02857143 0.97142857\n",
            "119      0 0.02857143 0.97142857\n",
            "120      0 0.91304348 0.08695652\n",
            "121      0 0.02857143 0.97142857\n",
            "125      0 0.02857143 0.97142857\n",
            "126      0 0.02857143 0.97142857\n",
            "127      0 0.02857143 0.97142857\n",
            "128      0 0.02857143 0.97142857\n",
            "129      0 0.02857143 0.97142857\n",
            "130      0 0.91304348 0.08695652\n",
            "132      0 0.02857143 0.97142857\n",
            "133      0 0.02857143 0.97142857\n",
            "134      0 0.91304348 0.08695652\n",
            "136      0 0.02857143 0.97142857\n",
            "138      0 0.02857143 0.97142857\n",
            "139      0 0.02857143 0.97142857\n",
            "141      0 0.02857143 0.97142857\n",
            "143      0 0.02857143 0.97142857\n",
            "144      0 0.02857143 0.97142857\n",
            "145      0 0.02857143 0.97142857\n",
            "146      0 0.02857143 0.97142857\n",
            "147      0 0.02857143 0.97142857\n",
            "148      0 0.02857143 0.97142857\n",
            "150      0 0.02857143 0.97142857\n"
          ],
          "name": "stdout"
        }
      ]
    },
    {
      "cell_type": "code",
      "metadata": {
        "colab": {
          "base_uri": "https://localhost:8080/",
          "height": 497
        },
        "id": "FEfQWXUCpO20",
        "outputId": "40b5065c-6fd2-46b8-eb95-4cd0de74c494"
      },
      "source": [
        "%%R\r\n",
        "# Decision tree with rpart\r\n",
        "tree1 <- rpart(Species ~ ., train)\r\n",
        "rpart.plot(tree1,extra=4)"
      ],
      "execution_count": null,
      "outputs": [
        {
          "output_type": "display_data",
          "data": {
            "image/png": "[encoded data removed]"
          },
          "metadata": {
            "tags": []
          }
        }
      ]
    },
    {
      "cell_type": "code",
      "metadata": {
        "id": "zQh55COoBX_K"
      },
      "source": [
        ""
      ],
      "execution_count": null,
      "outputs": []
    },
    {
      "cell_type": "code",
      "metadata": {
        "colab": {
          "base_uri": "https://localhost:8080/"
        },
        "id": "xznjWBgIBZKW",
        "outputId": "f2a97403-f39e-4f2d-84bf-0588d4b7ff56"
      },
      "source": [
        "%%R\r\n",
        "# Misclassification error - train data\r\n",
        "p1 <- predict(tree, train)\r\n",
        "tab1 <- table(p1,train$Species)\r\n",
        "tab1\r\n"
      ],
      "execution_count": null,
      "outputs": [
        {
          "output_type": "stream",
          "text": [
            "            \n",
            "p1           setosa versicolor virginica\n",
            "  setosa         42          0         0\n",
            "  versicolor      0         42         4\n",
            "  virginica       0          1        34\n"
          ],
          "name": "stdout"
        }
      ]
    },
    {
      "cell_type": "code",
      "metadata": {
        "colab": {
          "base_uri": "https://localhost:8080/"
        },
        "id": "Woph7j63z_X-",
        "outputId": "3d58c0f4-0d2e-4a9f-b55c-e9d2c03470ef"
      },
      "source": [
        "%%R\r\n",
        "# Misclassification error - test data\r\n",
        "p2 <- predict(tree, test)\r\n",
        "tab2 <- table(p2,test$Species)\r\n",
        "tab2\r\n"
      ],
      "execution_count": null,
      "outputs": [
        {
          "output_type": "stream",
          "text": [
            "            \n",
            "p2           setosa versicolor virginica\n",
            "  setosa          8          0         0\n",
            "  versicolor      0          7         1\n",
            "  virginica       0          0        11\n"
          ],
          "name": "stdout"
        }
      ]
    }
  ]
}